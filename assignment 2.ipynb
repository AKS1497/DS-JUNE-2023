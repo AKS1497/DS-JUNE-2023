{
 "cells": [
  {
   "cell_type": "code",
   "execution_count": 1,
   "metadata": {},
   "outputs": [],
   "source": [
    " import mysql.connector"
   ]
  },
  {
   "cell_type": "code",
   "execution_count": 23,
   "metadata": {},
   "outputs": [],
   "source": [
    "mydb = mysql.connector.connect(host='localhost',\n",
    "                               user='root',\n",
    "                               passwd='1234', \n",
    "                               database='classicmodels')"
   ]
  },
  {
   "cell_type": "code",
   "execution_count": 3,
   "metadata": {},
   "outputs": [],
   "source": [
    "# drop table count \n",
    "\n",
    "mycursor = mydb.cursor()\n",
    "mycursor.execute(\"DROP TABLE IF EXISTS Counts\")"
   ]
  },
  {
   "cell_type": "code",
   "execution_count": 4,
   "metadata": {},
   "outputs": [],
   "source": [
    "# Create a table named \"customers\":\n",
    "\n",
    "mycursor = mydb.cursor()\n",
    "mycursor.execute(\"CREATE TABLE Counts (org TEXT, count VARCHAR(255))\")"
   ]
  },
  {
   "cell_type": "code",
   "execution_count": 31,
   "metadata": {
    "collapsed": true
   },
   "outputs": [
    {
     "name": "stdout",
     "output_type": "stream",
     "text": [
      "[INFO]  1 record Updated...\n",
      "[INFO]  1 record Updated...\n",
      "[INFO]  1 record Updated...\n",
      "[INFO]  1 record Updated...\n",
      "[INFO]  1 record Updated...\n",
      "[INFO]  1 record Updated...\n",
      "[INFO]  1 record Updated...\n",
      "[INFO]  1 record Updated...\n",
      "[INFO]  1 record Updated...\n",
      "[INFO]  1 record Updated...\n",
      "[INFO]  1 record Updated...\n",
      "[INFO]  1 record Updated...\n",
      "[INFO]  1 record Updated...\n",
      "[INFO]  1 record Updated...\n",
      "[INFO]  1 record Updated...\n",
      "[INFO]  1 record Updated...\n",
      "[INFO]  1 record Updated...\n",
      "[INFO]  1 record Updated...\n",
      "[INFO]  1 record Updated...\n",
      "[INFO]  1 record Updated...\n",
      "[INFO]  1 record Updated...\n",
      "[INFO]  1 record Updated...\n",
      "[INFO]  1 record Updated...\n",
      "[INFO]  1 record Updated...\n",
      "[INFO]  1 record Updated...\n",
      "[INFO]  1 record Updated...\n",
      "[INFO]  1 record Updated...\n",
      "\n",
      "Final Output-----------------------------------\n",
      "('caret.cam.ac.uk', '3')\n",
      "('gmail.com', '3')\n",
      "('iupui.edu', '24')\n",
      "('umich.edu', '21')\n",
      "('uct.ac.za', '19')\n",
      "('media.berkeley.edu', '12')\n"
     ]
    }
   ],
   "source": [
    "fname = \"mbox.txt\"\n",
    "\n",
    "with open(fname, \"r\") as f:\n",
    "    fh = f.readlines()\n",
    "\n",
    "for line in fh:\n",
    "\n",
    "    if not line.startswith('From: ') :\n",
    "        continue\n",
    "    pieces = line.split()\n",
    "    email = pieces[1]\n",
    "    parts = email.split(\"@\")\n",
    "    org = parts[-1]\n",
    "\n",
    "\n",
    "    # -------------------------------\n",
    "    mycursor = mydb.cursor()\n",
    "    mycursor.execute('SELECT count FROM Counts WHERE org = %s', (org, ))\n",
    "    myresult = mycursor.fetchone()\n",
    "    #----------------------------------\n",
    "\n",
    "    if myresult is None:\n",
    "        print(\"[INFO] No Records Found..\")\n",
    "\n",
    "        mycursor = mydb.cursor()\n",
    "        mycursor.execute('INSERT INTO Counts (org, count)  VALUES ( %s, 1 )', ( org, ) )\n",
    "\n",
    "        mydb.commit()\n",
    "\n",
    "        print(\"[INFO] \", mycursor.rowcount, \"record inserted...\")\n",
    "\n",
    "    else:\n",
    "        mycursor = mydb.cursor()\n",
    "        mycursor.execute('UPDATE Counts SET count=count+1 WHERE org = %s',(org, ))\n",
    "        mydb.commit()\n",
    "\n",
    "        print(\"[INFO] \", mycursor.rowcount, \"record Updated...\")\n",
    "\n",
    "\n",
    "\n",
    "\n",
    "sqlstr = 'SELECT org, count FROM Counts ORDER BY count DESC'\n",
    "\n",
    "mycursor = mydb.cursor()\n",
    "mycursor.execute(sqlstr)\n",
    "myresult = mycursor.fetchall()\n",
    "print()\n",
    "print(\"Final Output-----------------------------------\")\n",
    "for x in myresult:\n",
    "    print(x)"
   ]
  },
  {
   "cell_type": "code",
   "execution_count": 33,
   "metadata": {},
   "outputs": [
    {
     "data": {
      "text/plain": [
       "'W:\\\\akshay-Python-Programming\\\\1. Basic Python Programming\\\\SQL_ASSIGNMENT'"
      ]
     },
     "execution_count": 33,
     "metadata": {},
     "output_type": "execute_result"
    }
   ],
   "source": [
    "pwd"
   ]
  },
  {
   "cell_type": "code",
   "execution_count": null,
   "metadata": {},
   "outputs": [],
   "source": []
  }
 ],
 "metadata": {
  "kernelspec": {
   "display_name": "Python 3",
   "language": "python",
   "name": "python3"
  },
  "language_info": {
   "codemirror_mode": {
    "name": "ipython",
    "version": 3
   },
   "file_extension": ".py",
   "mimetype": "text/x-python",
   "name": "python",
   "nbconvert_exporter": "python",
   "pygments_lexer": "ipython3",
   "version": "3.7.6"
  }
 },
 "nbformat": 4,
 "nbformat_minor": 4
}
